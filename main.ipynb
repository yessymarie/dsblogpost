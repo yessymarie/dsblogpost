{
  "nbformat": 4,
  "nbformat_minor": 0,
  "metadata": {
    "orig_nbformat": 2,
    "colab": {
      "name": "main.ipynb",
      "provenance": []
    },
    "kernelspec": {
      "name": "python3",
      "display_name": "Python 3"
    }
  },
  "cells": [
    {
      "cell_type": "markdown",
      "metadata": {
        "id": "ft1h6Jf3w2Qb"
      },
      "source": [
        "# **AirBnB's hospitality trend in Seattle**\n",
        "In this notebook, I will try to answer several question based on the data, such as\n",
        "\n",
        "\n",
        "1.   What kind of lodging is the most reserved?\n",
        "2.   What is the most expensive neighbourhood?\n",
        "3.   \n",
        "\n"
      ]
    },
    {
      "cell_type": "code",
      "metadata": {
        "id": "ntCkvEpFUJ8a"
      },
      "source": [
        "import pandas as pd\n",
        "import numpy as np\n",
        "import matplotlib.pyplot as plt\n",
        "import seaborn as sns\n",
        "from sklearn.linear_model import LinearRegression\n",
        "from sklearn.model_selection import train_test_split\n",
        "from sklearn.metrics import r2_score, mean_squared_error"
      ],
      "execution_count": 1,
      "outputs": []
    },
    {
      "cell_type": "markdown",
      "metadata": {
        "id": "dMZF7TEb5ATF"
      },
      "source": [
        "We load Pandas, Numpy, and pyplot for this project. This libraries will be heavily used for this project"
      ]
    },
    {
      "cell_type": "markdown",
      "metadata": {
        "id": "v3vfhNku5Wii"
      },
      "source": [
        "**Load and Filter Data needed**"
      ]
    },
    {
      "cell_type": "code",
      "metadata": {
        "colab": {
          "base_uri": "https://localhost:8080/"
        },
        "id": "r641ptvx5d4Z",
        "outputId": "6bc372c8-a983-4b17-ca3a-a9ae086fb3c5"
      },
      "source": [
        "\n",
        "from google.colab import drive\n",
        "drive.mount('/content/drive')"
      ],
      "execution_count": 2,
      "outputs": [
        {
          "output_type": "stream",
          "text": [
            "Mounted at /content/drive\n"
          ],
          "name": "stdout"
        }
      ]
    },
    {
      "cell_type": "code",
      "metadata": {
        "colab": {
          "base_uri": "https://localhost:8080/",
          "height": 204
        },
        "id": "628Vyoo0725l",
        "outputId": "0235939e-61f2-488b-e5d7-03a2dfd5f078"
      },
      "source": [
        "df_calendar = pd.read_csv('/content/drive/MyDrive/Dataset Udacity/Airbnb Seattle/calendar.csv')\n",
        "df_reviews = pd.read_csv('/content/drive/MyDrive/Dataset Udacity/Airbnb Seattle/reviews.csv')\n",
        "dflistings = pd.read_csv('/content/drive/MyDrive/Dataset Udacity/Airbnb Seattle/listings.csv')\n",
        "df_calendar.head()"
      ],
      "execution_count": 3,
      "outputs": [
        {
          "output_type": "execute_result",
          "data": {
            "text/html": [
              "<div>\n",
              "<style scoped>\n",
              "    .dataframe tbody tr th:only-of-type {\n",
              "        vertical-align: middle;\n",
              "    }\n",
              "\n",
              "    .dataframe tbody tr th {\n",
              "        vertical-align: top;\n",
              "    }\n",
              "\n",
              "    .dataframe thead th {\n",
              "        text-align: right;\n",
              "    }\n",
              "</style>\n",
              "<table border=\"1\" class=\"dataframe\">\n",
              "  <thead>\n",
              "    <tr style=\"text-align: right;\">\n",
              "      <th></th>\n",
              "      <th>listing_id</th>\n",
              "      <th>date</th>\n",
              "      <th>available</th>\n",
              "      <th>price</th>\n",
              "    </tr>\n",
              "  </thead>\n",
              "  <tbody>\n",
              "    <tr>\n",
              "      <th>0</th>\n",
              "      <td>241032</td>\n",
              "      <td>2016-01-04</td>\n",
              "      <td>t</td>\n",
              "      <td>$85.00</td>\n",
              "    </tr>\n",
              "    <tr>\n",
              "      <th>1</th>\n",
              "      <td>241032</td>\n",
              "      <td>2016-01-05</td>\n",
              "      <td>t</td>\n",
              "      <td>$85.00</td>\n",
              "    </tr>\n",
              "    <tr>\n",
              "      <th>2</th>\n",
              "      <td>241032</td>\n",
              "      <td>2016-01-06</td>\n",
              "      <td>f</td>\n",
              "      <td>NaN</td>\n",
              "    </tr>\n",
              "    <tr>\n",
              "      <th>3</th>\n",
              "      <td>241032</td>\n",
              "      <td>2016-01-07</td>\n",
              "      <td>f</td>\n",
              "      <td>NaN</td>\n",
              "    </tr>\n",
              "    <tr>\n",
              "      <th>4</th>\n",
              "      <td>241032</td>\n",
              "      <td>2016-01-08</td>\n",
              "      <td>f</td>\n",
              "      <td>NaN</td>\n",
              "    </tr>\n",
              "  </tbody>\n",
              "</table>\n",
              "</div>"
            ],
            "text/plain": [
              "   listing_id        date available   price\n",
              "0      241032  2016-01-04         t  $85.00\n",
              "1      241032  2016-01-05         t  $85.00\n",
              "2      241032  2016-01-06         f     NaN\n",
              "3      241032  2016-01-07         f     NaN\n",
              "4      241032  2016-01-08         f     NaN"
            ]
          },
          "metadata": {
            "tags": []
          },
          "execution_count": 3
        }
      ]
    },
    {
      "cell_type": "code",
      "metadata": {
        "id": "GBlWg_zTnD6r",
        "outputId": "75b46c2a-ca1e-4752-80aa-86675b6ead18",
        "colab": {
          "base_uri": "https://localhost:8080/",
          "height": 204
        }
      },
      "source": [
        "df_reviews.head()"
      ],
      "execution_count": 4,
      "outputs": [
        {
          "output_type": "execute_result",
          "data": {
            "text/html": [
              "<div>\n",
              "<style scoped>\n",
              "    .dataframe tbody tr th:only-of-type {\n",
              "        vertical-align: middle;\n",
              "    }\n",
              "\n",
              "    .dataframe tbody tr th {\n",
              "        vertical-align: top;\n",
              "    }\n",
              "\n",
              "    .dataframe thead th {\n",
              "        text-align: right;\n",
              "    }\n",
              "</style>\n",
              "<table border=\"1\" class=\"dataframe\">\n",
              "  <thead>\n",
              "    <tr style=\"text-align: right;\">\n",
              "      <th></th>\n",
              "      <th>listing_id</th>\n",
              "      <th>id</th>\n",
              "      <th>date</th>\n",
              "      <th>reviewer_id</th>\n",
              "      <th>reviewer_name</th>\n",
              "      <th>comments</th>\n",
              "    </tr>\n",
              "  </thead>\n",
              "  <tbody>\n",
              "    <tr>\n",
              "      <th>0</th>\n",
              "      <td>7202016</td>\n",
              "      <td>38917982</td>\n",
              "      <td>2015-07-19</td>\n",
              "      <td>28943674</td>\n",
              "      <td>Bianca</td>\n",
              "      <td>Cute and cozy place. Perfect location to every...</td>\n",
              "    </tr>\n",
              "    <tr>\n",
              "      <th>1</th>\n",
              "      <td>7202016</td>\n",
              "      <td>39087409</td>\n",
              "      <td>2015-07-20</td>\n",
              "      <td>32440555</td>\n",
              "      <td>Frank</td>\n",
              "      <td>Kelly has a great room in a very central locat...</td>\n",
              "    </tr>\n",
              "    <tr>\n",
              "      <th>2</th>\n",
              "      <td>7202016</td>\n",
              "      <td>39820030</td>\n",
              "      <td>2015-07-26</td>\n",
              "      <td>37722850</td>\n",
              "      <td>Ian</td>\n",
              "      <td>Very spacious apartment, and in a great neighb...</td>\n",
              "    </tr>\n",
              "    <tr>\n",
              "      <th>3</th>\n",
              "      <td>7202016</td>\n",
              "      <td>40813543</td>\n",
              "      <td>2015-08-02</td>\n",
              "      <td>33671805</td>\n",
              "      <td>George</td>\n",
              "      <td>Close to Seattle Center and all it has to offe...</td>\n",
              "    </tr>\n",
              "    <tr>\n",
              "      <th>4</th>\n",
              "      <td>7202016</td>\n",
              "      <td>41986501</td>\n",
              "      <td>2015-08-10</td>\n",
              "      <td>34959538</td>\n",
              "      <td>Ming</td>\n",
              "      <td>Kelly was a great host and very accommodating ...</td>\n",
              "    </tr>\n",
              "  </tbody>\n",
              "</table>\n",
              "</div>"
            ],
            "text/plain": [
              "   listing_id  ...                                           comments\n",
              "0     7202016  ...  Cute and cozy place. Perfect location to every...\n",
              "1     7202016  ...  Kelly has a great room in a very central locat...\n",
              "2     7202016  ...  Very spacious apartment, and in a great neighb...\n",
              "3     7202016  ...  Close to Seattle Center and all it has to offe...\n",
              "4     7202016  ...  Kelly was a great host and very accommodating ...\n",
              "\n",
              "[5 rows x 6 columns]"
            ]
          },
          "metadata": {
            "tags": []
          },
          "execution_count": 4
        }
      ]
    },
    {
      "cell_type": "code",
      "metadata": {
        "id": "OYUV9m8MnQba",
        "outputId": "e2b6a1b7-7c85-4617-8ddb-a6485d252816",
        "colab": {
          "base_uri": "https://localhost:8080/"
        }
      },
      "source": [
        "list(dflistings.columns)"
      ],
      "execution_count": 6,
      "outputs": [
        {
          "output_type": "execute_result",
          "data": {
            "text/plain": [
              "['id',\n",
              " 'listing_url',\n",
              " 'scrape_id',\n",
              " 'last_scraped',\n",
              " 'name',\n",
              " 'summary',\n",
              " 'space',\n",
              " 'description',\n",
              " 'experiences_offered',\n",
              " 'neighborhood_overview',\n",
              " 'notes',\n",
              " 'transit',\n",
              " 'thumbnail_url',\n",
              " 'medium_url',\n",
              " 'picture_url',\n",
              " 'xl_picture_url',\n",
              " 'host_id',\n",
              " 'host_url',\n",
              " 'host_name',\n",
              " 'host_since',\n",
              " 'host_location',\n",
              " 'host_about',\n",
              " 'host_response_time',\n",
              " 'host_response_rate',\n",
              " 'host_acceptance_rate',\n",
              " 'host_is_superhost',\n",
              " 'host_thumbnail_url',\n",
              " 'host_picture_url',\n",
              " 'host_neighbourhood',\n",
              " 'host_listings_count',\n",
              " 'host_total_listings_count',\n",
              " 'host_verifications',\n",
              " 'host_has_profile_pic',\n",
              " 'host_identity_verified',\n",
              " 'street',\n",
              " 'neighbourhood',\n",
              " 'neighbourhood_cleansed',\n",
              " 'neighbourhood_group_cleansed',\n",
              " 'city',\n",
              " 'state',\n",
              " 'zipcode',\n",
              " 'market',\n",
              " 'smart_location',\n",
              " 'country_code',\n",
              " 'country',\n",
              " 'latitude',\n",
              " 'longitude',\n",
              " 'is_location_exact',\n",
              " 'property_type',\n",
              " 'room_type',\n",
              " 'accommodates',\n",
              " 'bathrooms',\n",
              " 'bedrooms',\n",
              " 'beds',\n",
              " 'bed_type',\n",
              " 'amenities',\n",
              " 'square_feet',\n",
              " 'price',\n",
              " 'weekly_price',\n",
              " 'monthly_price',\n",
              " 'security_deposit',\n",
              " 'cleaning_fee',\n",
              " 'guests_included',\n",
              " 'extra_people',\n",
              " 'minimum_nights',\n",
              " 'maximum_nights',\n",
              " 'calendar_updated',\n",
              " 'has_availability',\n",
              " 'availability_30',\n",
              " 'availability_60',\n",
              " 'availability_90',\n",
              " 'availability_365',\n",
              " 'calendar_last_scraped',\n",
              " 'number_of_reviews',\n",
              " 'first_review',\n",
              " 'last_review',\n",
              " 'review_scores_rating',\n",
              " 'review_scores_accuracy',\n",
              " 'review_scores_cleanliness',\n",
              " 'review_scores_checkin',\n",
              " 'review_scores_communication',\n",
              " 'review_scores_location',\n",
              " 'review_scores_value',\n",
              " 'requires_license',\n",
              " 'license',\n",
              " 'jurisdiction_names',\n",
              " 'instant_bookable',\n",
              " 'cancellation_policy',\n",
              " 'require_guest_profile_picture',\n",
              " 'require_guest_phone_verification',\n",
              " 'calculated_host_listings_count',\n",
              " 'reviews_per_month']"
            ]
          },
          "metadata": {
            "tags": []
          },
          "execution_count": 6
        }
      ]
    }
  ]
}