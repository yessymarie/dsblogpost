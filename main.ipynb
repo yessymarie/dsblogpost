{
  "nbformat": 4,
  "nbformat_minor": 0,
  "metadata": {
    "orig_nbformat": 2,
    "colab": {
      "name": "main.ipynb",
      "provenance": [],
      "toc_visible": true
    },
    "kernelspec": {
      "name": "python3",
      "display_name": "Python 3"
    }
  },
  "cells": [
    {
      "cell_type": "markdown",
      "metadata": {
        "id": "ft1h6Jf3w2Qb"
      },
      "source": [
        "# **Demography of Coders in 2020**\n",
        "\n",
        "\n",
        "\n",
        "\n",
        "In this notebook, I will try to answer how the age and country can affect people to learn about code\n",
        "\n",
        "\n",
        "1.   What is the age range trend of coders?\n",
        "2.   What is the most used programming language in an age range?\n",
        "3.   How is the correlation between 1st age code in a country based on its age range? \n",
        "\n"
      ]
    },
    {
      "cell_type": "markdown",
      "metadata": {
        "id": "ZSTJDdmWFOqm"
      },
      "source": [
        "## **Data Understanding**\r\n",
        "We can answer those questions by analyzing the data that provided by Stack Overflow. Stack Overflow made a survey for coders in 2020."
      ]
    },
    {
      "cell_type": "markdown",
      "metadata": {
        "id": "CvQ-vGe1Foh4"
      },
      "source": [
        "### **Load Libraries For this Porject**"
      ]
    },
    {
      "cell_type": "code",
      "metadata": {
        "id": "ntCkvEpFUJ8a"
      },
      "source": [
        "import pandas as pd\n",
        "import numpy as np\n",
        "import matplotlib.pyplot as plt\n",
        "import seaborn as sns\n",
        "from matplotlib import cm"
      ],
      "execution_count": 2,
      "outputs": []
    },
    {
      "cell_type": "markdown",
      "metadata": {
        "id": "dMZF7TEb5ATF"
      },
      "source": [
        "We load Pandas and pyplot for this project. These libraries will be heavily used for this project."
      ]
    },
    {
      "cell_type": "markdown",
      "metadata": {
        "id": "v3vfhNku5Wii"
      },
      "source": [
        "### **Load and Filter Data needed**"
      ]
    },
    {
      "cell_type": "markdown",
      "metadata": {
        "id": "zqINbb7RGBq_"
      },
      "source": [
        "The data is saved in google drive for easiness."
      ]
    },
    {
      "cell_type": "code",
      "metadata": {
        "colab": {
          "base_uri": "https://localhost:8080/"
        },
        "id": "r641ptvx5d4Z",
        "outputId": "676ac074-8db7-442e-b3ef-ec6ab348901b"
      },
      "source": [
        "#The data is saved in google drive\n",
        "from google.colab import drive\n",
        "drive.mount('/content/drive')"
      ],
      "execution_count": 15,
      "outputs": [
        {
          "output_type": "stream",
          "text": [
            "Mounted at /content/drive\n"
          ],
          "name": "stdout"
        }
      ]
    },
    {
      "cell_type": "markdown",
      "metadata": {
        "id": "55I458IdUQlK"
      },
      "source": [
        "For understanding the data, we only use the desired column to answer the question above.\n",
        "The desired columns are mainly about the background of respondent."
      ]
    },
    {
      "cell_type": "code",
      "metadata": {
        "colab": {
          "base_uri": "https://localhost:8080/",
          "height": 197
        },
        "id": "628Vyoo0725l",
        "outputId": "fe8f5b96-91a4-4233-a8b2-9aa79468aeeb"
      },
      "source": [
        "# Load data from csv\n",
        "df = pd.read_csv('/content/drive/MyDrive/Dataset Udacity/Stack Overflow 2020/survey_results_public.csv')\n",
        "\n",
        "# Show only the desired column\n",
        "column = ['Age1stCode','Country','YearsCode','LanguageWorkedWith']\n",
        "\n",
        "df = df[column]\n",
        "\n",
        "df.head()"
      ],
      "execution_count": 16,
      "outputs": [
        {
          "output_type": "execute_result",
          "data": {
            "text/html": [
              "<div>\n",
              "<style scoped>\n",
              "    .dataframe tbody tr th:only-of-type {\n",
              "        vertical-align: middle;\n",
              "    }\n",
              "\n",
              "    .dataframe tbody tr th {\n",
              "        vertical-align: top;\n",
              "    }\n",
              "\n",
              "    .dataframe thead th {\n",
              "        text-align: right;\n",
              "    }\n",
              "</style>\n",
              "<table border=\"1\" class=\"dataframe\">\n",
              "  <thead>\n",
              "    <tr style=\"text-align: right;\">\n",
              "      <th></th>\n",
              "      <th>Age1stCode</th>\n",
              "      <th>Country</th>\n",
              "      <th>YearsCode</th>\n",
              "      <th>LanguageWorkedWith</th>\n",
              "    </tr>\n",
              "  </thead>\n",
              "  <tbody>\n",
              "    <tr>\n",
              "      <th>0</th>\n",
              "      <td>13</td>\n",
              "      <td>Germany</td>\n",
              "      <td>36</td>\n",
              "      <td>C#;HTML/CSS;JavaScript</td>\n",
              "    </tr>\n",
              "    <tr>\n",
              "      <th>1</th>\n",
              "      <td>19</td>\n",
              "      <td>United Kingdom</td>\n",
              "      <td>7</td>\n",
              "      <td>JavaScript;Swift</td>\n",
              "    </tr>\n",
              "    <tr>\n",
              "      <th>2</th>\n",
              "      <td>15</td>\n",
              "      <td>Russian Federation</td>\n",
              "      <td>4</td>\n",
              "      <td>Objective-C;Python;Swift</td>\n",
              "    </tr>\n",
              "    <tr>\n",
              "      <th>3</th>\n",
              "      <td>18</td>\n",
              "      <td>Albania</td>\n",
              "      <td>7</td>\n",
              "      <td>NaN</td>\n",
              "    </tr>\n",
              "    <tr>\n",
              "      <th>4</th>\n",
              "      <td>16</td>\n",
              "      <td>United States</td>\n",
              "      <td>15</td>\n",
              "      <td>HTML/CSS;Ruby;SQL</td>\n",
              "    </tr>\n",
              "  </tbody>\n",
              "</table>\n",
              "</div>"
            ],
            "text/plain": [
              "  Age1stCode             Country YearsCode        LanguageWorkedWith\n",
              "0         13             Germany        36    C#;HTML/CSS;JavaScript\n",
              "1         19      United Kingdom         7          JavaScript;Swift\n",
              "2         15  Russian Federation         4  Objective-C;Python;Swift\n",
              "3         18             Albania         7                       NaN\n",
              "4         16       United States        15         HTML/CSS;Ruby;SQL"
            ]
          },
          "metadata": {
            "tags": []
          },
          "execution_count": 16
        }
      ]
    },
    {
      "cell_type": "markdown",
      "metadata": {
        "id": "GNIXwO7iGMt5"
      },
      "source": [
        "## **Data Preparation**"
      ]
    },
    {
      "cell_type": "markdown",
      "metadata": {
        "id": "BBisxmTJG5J_"
      },
      "source": [
        "### **Filter only data without null value**"
      ]
    },
    {
      "cell_type": "markdown",
      "metadata": {
        "id": "pumYBBmNGURO"
      },
      "source": [
        "We are interested in respondent that has all the value of each column that we call. So null value can't be called because we don't want to fill value based on automatic substitution. A substitution of null value will interfere in classifying data that we want."
      ]
    },
    {
      "cell_type": "code",
      "metadata": {
        "id": "12ydW-shYZGU"
      },
      "source": [
        "#Delete all the null value in the table\r\n",
        "df = df.dropna()"
      ],
      "execution_count": 17,
      "outputs": []
    },
    {
      "cell_type": "markdown",
      "metadata": {
        "id": "lSSWXwRCIPBM"
      },
      "source": [
        "### **Add column that consist of respondent's age**\r\n",
        "To know the age trend, we need to know the respondent's age. We can calculate the age from the given data."
      ]
    },
    {
      "cell_type": "code",
      "metadata": {
        "colab": {
          "base_uri": "https://localhost:8080/",
          "height": 197
        },
        "id": "Rkl8YEFTZ9qX",
        "outputId": "c4eb514a-a8cc-4fca-bc37-1516147dced8"
      },
      "source": [
        "#Find the Age of Each Respondent using its Age1stCode and YearsCode\n",
        "df['Age1stCode'] = df['Age1stCode'].apply(pd.to_numeric, errors='coerce')\n",
        "df['YearsCode'] = df['YearsCode'].apply(pd.to_numeric, errors='coerce')\n",
        "pd.options.display.float_format = '{:,.0f}'.format\n",
        "\n",
        "df['Age'] = df.Age1stCode + df.YearsCode\n",
        "df.head()"
      ],
      "execution_count": 18,
      "outputs": [
        {
          "output_type": "execute_result",
          "data": {
            "text/html": [
              "<div>\n",
              "<style scoped>\n",
              "    .dataframe tbody tr th:only-of-type {\n",
              "        vertical-align: middle;\n",
              "    }\n",
              "\n",
              "    .dataframe tbody tr th {\n",
              "        vertical-align: top;\n",
              "    }\n",
              "\n",
              "    .dataframe thead th {\n",
              "        text-align: right;\n",
              "    }\n",
              "</style>\n",
              "<table border=\"1\" class=\"dataframe\">\n",
              "  <thead>\n",
              "    <tr style=\"text-align: right;\">\n",
              "      <th></th>\n",
              "      <th>Age1stCode</th>\n",
              "      <th>Country</th>\n",
              "      <th>YearsCode</th>\n",
              "      <th>LanguageWorkedWith</th>\n",
              "      <th>Age</th>\n",
              "    </tr>\n",
              "  </thead>\n",
              "  <tbody>\n",
              "    <tr>\n",
              "      <th>0</th>\n",
              "      <td>13</td>\n",
              "      <td>Germany</td>\n",
              "      <td>36</td>\n",
              "      <td>C#;HTML/CSS;JavaScript</td>\n",
              "      <td>49</td>\n",
              "    </tr>\n",
              "    <tr>\n",
              "      <th>1</th>\n",
              "      <td>19</td>\n",
              "      <td>United Kingdom</td>\n",
              "      <td>7</td>\n",
              "      <td>JavaScript;Swift</td>\n",
              "      <td>26</td>\n",
              "    </tr>\n",
              "    <tr>\n",
              "      <th>2</th>\n",
              "      <td>15</td>\n",
              "      <td>Russian Federation</td>\n",
              "      <td>4</td>\n",
              "      <td>Objective-C;Python;Swift</td>\n",
              "      <td>19</td>\n",
              "    </tr>\n",
              "    <tr>\n",
              "      <th>4</th>\n",
              "      <td>16</td>\n",
              "      <td>United States</td>\n",
              "      <td>15</td>\n",
              "      <td>HTML/CSS;Ruby;SQL</td>\n",
              "      <td>31</td>\n",
              "    </tr>\n",
              "    <tr>\n",
              "      <th>5</th>\n",
              "      <td>14</td>\n",
              "      <td>Germany</td>\n",
              "      <td>6</td>\n",
              "      <td>HTML/CSS;Java;JavaScript</td>\n",
              "      <td>20</td>\n",
              "    </tr>\n",
              "  </tbody>\n",
              "</table>\n",
              "</div>"
            ],
            "text/plain": [
              "   Age1stCode             Country  YearsCode        LanguageWorkedWith  Age\n",
              "0          13             Germany         36    C#;HTML/CSS;JavaScript   49\n",
              "1          19      United Kingdom          7          JavaScript;Swift   26\n",
              "2          15  Russian Federation          4  Objective-C;Python;Swift   19\n",
              "4          16       United States         15         HTML/CSS;Ruby;SQL   31\n",
              "5          14             Germany          6  HTML/CSS;Java;JavaScript   20"
            ]
          },
          "metadata": {
            "tags": []
          },
          "execution_count": 18
        }
      ]
    },
    {
      "cell_type": "markdown",
      "metadata": {
        "id": "pBF5PDmHss6K"
      },
      "source": [
        "### **Classify the respondent based on its age**\r\n",
        "Working age group is between 15 and 64. From the data above we will classified the data based on its age with the range of 10 for each class."
      ]
    },
    {
      "cell_type": "code",
      "metadata": {
        "id": "sT-Elu_RmCWS",
        "colab": {
          "base_uri": "https://localhost:8080/",
          "height": 197
        },
        "outputId": "549267dd-73f1-4bfe-caa0-cb26c54e00e2"
      },
      "source": [
        "#Only take respondent who are in working age group from 15 to 64\r\n",
        "df = df[(df['Age'] >= 15) & (df['Age'] <= 64)]\r\n",
        "\r\n",
        "class_list = [9.9,19.9,29.9,39.9,49.9,59.9,69.9]\r\n",
        "class_name = ['10s', '20s', '30s', '40s','50s','60s']\r\n",
        "\r\n",
        "df['AgeTrend'] = pd.cut(df['Age'], class_list , labels = class_name)\r\n",
        "df.head()"
      ],
      "execution_count": 20,
      "outputs": [
        {
          "output_type": "execute_result",
          "data": {
            "text/html": [
              "<div>\n",
              "<style scoped>\n",
              "    .dataframe tbody tr th:only-of-type {\n",
              "        vertical-align: middle;\n",
              "    }\n",
              "\n",
              "    .dataframe tbody tr th {\n",
              "        vertical-align: top;\n",
              "    }\n",
              "\n",
              "    .dataframe thead th {\n",
              "        text-align: right;\n",
              "    }\n",
              "</style>\n",
              "<table border=\"1\" class=\"dataframe\">\n",
              "  <thead>\n",
              "    <tr style=\"text-align: right;\">\n",
              "      <th></th>\n",
              "      <th>Age1stCode</th>\n",
              "      <th>Country</th>\n",
              "      <th>YearsCode</th>\n",
              "      <th>LanguageWorkedWith</th>\n",
              "      <th>Age</th>\n",
              "      <th>AgeTrend</th>\n",
              "    </tr>\n",
              "  </thead>\n",
              "  <tbody>\n",
              "    <tr>\n",
              "      <th>0</th>\n",
              "      <td>13</td>\n",
              "      <td>Germany</td>\n",
              "      <td>36</td>\n",
              "      <td>C#;HTML/CSS;JavaScript</td>\n",
              "      <td>49</td>\n",
              "      <td>40s</td>\n",
              "    </tr>\n",
              "    <tr>\n",
              "      <th>1</th>\n",
              "      <td>19</td>\n",
              "      <td>United Kingdom</td>\n",
              "      <td>7</td>\n",
              "      <td>JavaScript;Swift</td>\n",
              "      <td>26</td>\n",
              "      <td>20s</td>\n",
              "    </tr>\n",
              "    <tr>\n",
              "      <th>2</th>\n",
              "      <td>15</td>\n",
              "      <td>Russian Federation</td>\n",
              "      <td>4</td>\n",
              "      <td>Objective-C;Python;Swift</td>\n",
              "      <td>19</td>\n",
              "      <td>10s</td>\n",
              "    </tr>\n",
              "    <tr>\n",
              "      <th>4</th>\n",
              "      <td>16</td>\n",
              "      <td>United States</td>\n",
              "      <td>15</td>\n",
              "      <td>HTML/CSS;Ruby;SQL</td>\n",
              "      <td>31</td>\n",
              "      <td>30s</td>\n",
              "    </tr>\n",
              "    <tr>\n",
              "      <th>5</th>\n",
              "      <td>14</td>\n",
              "      <td>Germany</td>\n",
              "      <td>6</td>\n",
              "      <td>HTML/CSS;Java;JavaScript</td>\n",
              "      <td>20</td>\n",
              "      <td>20s</td>\n",
              "    </tr>\n",
              "  </tbody>\n",
              "</table>\n",
              "</div>"
            ],
            "text/plain": [
              "   Age1stCode             Country  ...  Age AgeTrend\n",
              "0          13             Germany  ...   49      40s\n",
              "1          19      United Kingdom  ...   26      20s\n",
              "2          15  Russian Federation  ...   19      10s\n",
              "4          16       United States  ...   31      30s\n",
              "5          14             Germany  ...   20      20s\n",
              "\n",
              "[5 rows x 6 columns]"
            ]
          },
          "metadata": {
            "tags": []
          },
          "execution_count": 20
        }
      ]
    },
    {
      "cell_type": "markdown",
      "metadata": {
        "id": "24IPclt-P-6z"
      },
      "source": [
        "### **Create Function to filter data**"
      ]
    },
    {
      "cell_type": "code",
      "metadata": {
        "id": "Je55cgG37pLG"
      },
      "source": [
        "def data_grouping(df,list_col,class_group, list_col_name, class_group_name):\r\n",
        "  '''\r\n",
        "  DESCRIPTION:\r\n",
        "  classify data based on class group\r\n",
        "  eg: | LanguageWorkedWith    | AgeTrend | -> | Language   | AgeTrend | -> | AgeTrend | Javascript | Java |\r\n",
        "      | Javascript, Java      |  20s     | -> | Javascript | 20s      |    | 20s      | 1          | 1    |\r\n",
        "                                           -> | Java       | 20s      |\r\n",
        "  INPUT:\r\n",
        "  df               - pandas dataframe\r\n",
        "  list_col         - column that consists of list value\r\n",
        "  class_group      - the value for groupping data\r\n",
        "  list_col_name    - name of column for list value\r\n",
        "  class_group_name - name of column for class value\r\n",
        "\r\n",
        "  OUTPUT:\r\n",
        "  new_df\r\n",
        "  '''\r\n",
        "  list_of_value = []\r\n",
        "\r\n",
        "  #iterate each row inside dataframe\r\n",
        "  for index, row in df.iterrows():\r\n",
        "    #split a list of value per row and assign the class group name for the row\r\n",
        "    for value in str(row[list_col]).split(';'):\r\n",
        "      list_of_value.append({class_group_name:row[class_group],list_col_name:value})\r\n",
        "\r\n",
        "  #append the list value to the new dataframe\r\n",
        "  new_df = df.append(list_of_value, ignore_index=True)\r\n",
        "\r\n",
        "  #group each row based on its class\r\n",
        "  new_df = new_df.groupby(class_group_name)[list_col_name].value_counts()\r\n",
        "\r\n",
        "  #pivot the column\r\n",
        "  new_df = new_df.unstack(level=-1).fillna(0)\r\n",
        "  \r\n",
        "  return new_df"
      ],
      "execution_count": 58,
      "outputs": []
    },
    {
      "cell_type": "markdown",
      "metadata": {
        "id": "EjxVoECti3bs"
      },
      "source": [
        "## **Analysis**"
      ]
    },
    {
      "cell_type": "markdown",
      "metadata": {
        "id": "hjRfsqfjC8Av"
      },
      "source": [
        "After the data is cleaned, we are trying to answer the question using several analysis"
      ]
    },
    {
      "cell_type": "markdown",
      "metadata": {
        "id": "w4TLXjXviQa0"
      },
      "source": [
        "### **Age Range Trend for Coders**\r\n",
        "\r\n",
        "To know the age trend of coders, we simply plot the data based on the age range.\r\n",
        "\r\n"
      ]
    },
    {
      "cell_type": "code",
      "metadata": {
        "id": "BxTeppRflxwM",
        "colab": {
          "base_uri": "https://localhost:8080/",
          "height": 323
        },
        "outputId": "6105b136-a052-4594-c9cb-b6a9271e884d"
      },
      "source": [
        "#Plot the total of respondent based on the age group\r\n",
        "plt.figure(figsize=(19,5))\r\n",
        "plt.xticks(rotation='vertical', fontsize=15.0)\r\n",
        "plt.yticks(fontsize=15.0)\r\n",
        "sns.barplot(x=df['AgeTrend'].value_counts().index, y=df['AgeTrend'].value_counts(), color=\"#F2C80F\", order=df['AgeTrend'].value_counts().index)\r\n",
        "plt.show()"
      ],
      "execution_count": 22,
      "outputs": [
        {
          "output_type": "display_data",
          "data": {
            "image/png": "[encoded data removed]",
            "text/plain": [
              "<Figure size 1368x360 with 1 Axes>"
            ]
          },
          "metadata": {
            "tags": [],
            "needs_background": "light"
          }
        }
      ]
    },
    {
      "cell_type": "markdown",
      "metadata": {
        "id": "XrAUdWUDhHyT"
      },
      "source": [
        "As you can see, the coders are mostly in their 20s. People in 20s are born from 1990s to 2000, when technology thrived at a high pace. Followed by people in 30s then 10s. It shows that people in 10s have a high curiosity in programming language."
      ]
    },
    {
      "cell_type": "markdown",
      "metadata": {
        "id": "Zagiz-yNtCkY"
      },
      "source": [
        "### **Most used programming Language in an age range**"
      ]
    },
    {
      "cell_type": "markdown",
      "metadata": {
        "id": "QvYMuqBAC43Z"
      },
      "source": [
        "To know the most used programming Language in an age range, we have to split list in *LanguageWorkedWith* column and total users of each Language in each Age Group."
      ]
    },
    {
      "cell_type": "code",
      "metadata": {
        "id": "sW4ZvyYuBxdI",
        "outputId": "bed4815d-1380-4fcf-9c72-90da3d553178",
        "colab": {
          "base_uri": "https://localhost:8080/",
          "height": 294
        }
      },
      "source": [
        "#Make a table that consist of all programming language in LanguageWorkedWith column and classify it to each age group\r\n",
        "data_grouping(df,'LanguageWorkedWith','AgeTrend','Language','AgeTrend')"
      ],
      "execution_count": 57,
      "outputs": [
        {
          "output_type": "execute_result",
          "data": {
            "text/html": [
              "<div>\n",
              "<style scoped>\n",
              "    .dataframe tbody tr th:only-of-type {\n",
              "        vertical-align: middle;\n",
              "    }\n",
              "\n",
              "    .dataframe tbody tr th {\n",
              "        vertical-align: top;\n",
              "    }\n",
              "\n",
              "    .dataframe thead th {\n",
              "        text-align: right;\n",
              "    }\n",
              "</style>\n",
              "<table border=\"1\" class=\"dataframe\">\n",
              "  <thead>\n",
              "    <tr style=\"text-align: right;\">\n",
              "      <th>Language</th>\n",
              "      <th>Assembly</th>\n",
              "      <th>Bash/Shell/PowerShell</th>\n",
              "      <th>C</th>\n",
              "      <th>C#</th>\n",
              "      <th>C++</th>\n",
              "      <th>Dart</th>\n",
              "      <th>Go</th>\n",
              "      <th>HTML/CSS</th>\n",
              "      <th>Haskell</th>\n",
              "      <th>Java</th>\n",
              "      <th>JavaScript</th>\n",
              "      <th>Julia</th>\n",
              "      <th>Kotlin</th>\n",
              "      <th>Objective-C</th>\n",
              "      <th>PHP</th>\n",
              "      <th>Perl</th>\n",
              "      <th>Python</th>\n",
              "      <th>R</th>\n",
              "      <th>Ruby</th>\n",
              "      <th>Rust</th>\n",
              "      <th>SQL</th>\n",
              "      <th>Scala</th>\n",
              "      <th>Swift</th>\n",
              "      <th>TypeScript</th>\n",
              "      <th>VBA</th>\n",
              "    </tr>\n",
              "    <tr>\n",
              "      <th>AgeTrend</th>\n",
              "      <th></th>\n",
              "      <th></th>\n",
              "      <th></th>\n",
              "      <th></th>\n",
              "      <th></th>\n",
              "      <th></th>\n",
              "      <th></th>\n",
              "      <th></th>\n",
              "      <th></th>\n",
              "      <th></th>\n",
              "      <th></th>\n",
              "      <th></th>\n",
              "      <th></th>\n",
              "      <th></th>\n",
              "      <th></th>\n",
              "      <th></th>\n",
              "      <th></th>\n",
              "      <th></th>\n",
              "      <th></th>\n",
              "      <th></th>\n",
              "      <th></th>\n",
              "      <th></th>\n",
              "      <th></th>\n",
              "      <th></th>\n",
              "      <th></th>\n",
              "    </tr>\n",
              "  </thead>\n",
              "  <tbody>\n",
              "    <tr>\n",
              "      <th>10s</th>\n",
              "      <td>525</td>\n",
              "      <td>1757</td>\n",
              "      <td>1648</td>\n",
              "      <td>1704</td>\n",
              "      <td>1861</td>\n",
              "      <td>314</td>\n",
              "      <td>454</td>\n",
              "      <td>3899</td>\n",
              "      <td>168</td>\n",
              "      <td>2563</td>\n",
              "      <td>3812</td>\n",
              "      <td>41</td>\n",
              "      <td>448</td>\n",
              "      <td>134</td>\n",
              "      <td>1451</td>\n",
              "      <td>70</td>\n",
              "      <td>3151</td>\n",
              "      <td>319</td>\n",
              "      <td>362</td>\n",
              "      <td>408</td>\n",
              "      <td>2744</td>\n",
              "      <td>117</td>\n",
              "      <td>329</td>\n",
              "      <td>1191</td>\n",
              "      <td>290</td>\n",
              "    </tr>\n",
              "    <tr>\n",
              "      <th>20s</th>\n",
              "      <td>1682</td>\n",
              "      <td>8569</td>\n",
              "      <td>6189</td>\n",
              "      <td>8237</td>\n",
              "      <td>6692</td>\n",
              "      <td>1201</td>\n",
              "      <td>2426</td>\n",
              "      <td>17503</td>\n",
              "      <td>616</td>\n",
              "      <td>11658</td>\n",
              "      <td>18871</td>\n",
              "      <td>237</td>\n",
              "      <td>2335</td>\n",
              "      <td>1022</td>\n",
              "      <td>7408</td>\n",
              "      <td>527</td>\n",
              "      <td>12495</td>\n",
              "      <td>1650</td>\n",
              "      <td>1828</td>\n",
              "      <td>1444</td>\n",
              "      <td>14994</td>\n",
              "      <td>965</td>\n",
              "      <td>1605</td>\n",
              "      <td>7521</td>\n",
              "      <td>1346</td>\n",
              "    </tr>\n",
              "    <tr>\n",
              "      <th>30s</th>\n",
              "      <td>491</td>\n",
              "      <td>4799</td>\n",
              "      <td>1932</td>\n",
              "      <td>4399</td>\n",
              "      <td>2273</td>\n",
              "      <td>314</td>\n",
              "      <td>1250</td>\n",
              "      <td>7856</td>\n",
              "      <td>211</td>\n",
              "      <td>4581</td>\n",
              "      <td>8906</td>\n",
              "      <td>79</td>\n",
              "      <td>955</td>\n",
              "      <td>637</td>\n",
              "      <td>3270</td>\n",
              "      <td>507</td>\n",
              "      <td>4949</td>\n",
              "      <td>673</td>\n",
              "      <td>1064</td>\n",
              "      <td>623</td>\n",
              "      <td>7463</td>\n",
              "      <td>588</td>\n",
              "      <td>724</td>\n",
              "      <td>3582</td>\n",
              "      <td>824</td>\n",
              "    </tr>\n",
              "    <tr>\n",
              "      <th>40s</th>\n",
              "      <td>262</td>\n",
              "      <td>1717</td>\n",
              "      <td>827</td>\n",
              "      <td>1485</td>\n",
              "      <td>858</td>\n",
              "      <td>107</td>\n",
              "      <td>370</td>\n",
              "      <td>2348</td>\n",
              "      <td>66</td>\n",
              "      <td>1411</td>\n",
              "      <td>2592</td>\n",
              "      <td>40</td>\n",
              "      <td>238</td>\n",
              "      <td>208</td>\n",
              "      <td>946</td>\n",
              "      <td>290</td>\n",
              "      <td>1515</td>\n",
              "      <td>223</td>\n",
              "      <td>314</td>\n",
              "      <td>163</td>\n",
              "      <td>2438</td>\n",
              "      <td>156</td>\n",
              "      <td>242</td>\n",
              "      <td>919</td>\n",
              "      <td>389</td>\n",
              "    </tr>\n",
              "    <tr>\n",
              "      <th>50s</th>\n",
              "      <td>137</td>\n",
              "      <td>681</td>\n",
              "      <td>418</td>\n",
              "      <td>551</td>\n",
              "      <td>432</td>\n",
              "      <td>40</td>\n",
              "      <td>104</td>\n",
              "      <td>843</td>\n",
              "      <td>24</td>\n",
              "      <td>503</td>\n",
              "      <td>920</td>\n",
              "      <td>18</td>\n",
              "      <td>66</td>\n",
              "      <td>88</td>\n",
              "      <td>312</td>\n",
              "      <td>165</td>\n",
              "      <td>629</td>\n",
              "      <td>90</td>\n",
              "      <td>89</td>\n",
              "      <td>47</td>\n",
              "      <td>958</td>\n",
              "      <td>43</td>\n",
              "      <td>125</td>\n",
              "      <td>246</td>\n",
              "      <td>201</td>\n",
              "    </tr>\n",
              "    <tr>\n",
              "      <th>60s</th>\n",
              "      <td>36</td>\n",
              "      <td>110</td>\n",
              "      <td>91</td>\n",
              "      <td>103</td>\n",
              "      <td>96</td>\n",
              "      <td>6</td>\n",
              "      <td>16</td>\n",
              "      <td>136</td>\n",
              "      <td>10</td>\n",
              "      <td>81</td>\n",
              "      <td>162</td>\n",
              "      <td>7</td>\n",
              "      <td>14</td>\n",
              "      <td>21</td>\n",
              "      <td>61</td>\n",
              "      <td>38</td>\n",
              "      <td>104</td>\n",
              "      <td>18</td>\n",
              "      <td>17</td>\n",
              "      <td>9</td>\n",
              "      <td>177</td>\n",
              "      <td>9</td>\n",
              "      <td>22</td>\n",
              "      <td>37</td>\n",
              "      <td>50</td>\n",
              "    </tr>\n",
              "  </tbody>\n",
              "</table>\n",
              "</div>"
            ],
            "text/plain": [
              "Language  Assembly  Bash/Shell/PowerShell     C  ...  Swift  TypeScript   VBA\n",
              "AgeTrend                                         ...                         \n",
              "10s            525                   1757  1648  ...    329        1191   290\n",
              "20s           1682                   8569  6189  ...   1605        7521  1346\n",
              "30s            491                   4799  1932  ...    724        3582   824\n",
              "40s            262                   1717   827  ...    242         919   389\n",
              "50s            137                    681   418  ...    125         246   201\n",
              "60s             36                    110    91  ...     22          37    50\n",
              "\n",
              "[6 rows x 25 columns]"
            ]
          },
          "metadata": {
            "tags": []
          },
          "execution_count": 57
        }
      ]
    },
    {
      "cell_type": "markdown",
      "metadata": {
        "id": "6RQ4jEV5Uhbh"
      },
      "source": [
        "Then, we are going to find the top 5 programming language for each Age group"
      ]
    },
    {
      "cell_type": "code",
      "metadata": {
        "colab": {
          "base_uri": "https://localhost:8080/",
          "height": 1000
        },
        "id": "DG5SQ_7UROho",
        "outputId": "dfb4c53d-2ad9-4f01-946b-f9ef5a5708c8"
      },
      "source": [
        "color = cm.inferno_r(np.linspace(.1, .7, 5))\r\n",
        "\r\n",
        "#Iterate the dataframe of df_Language and plot the total of Language user in each Age Group\r\n",
        "for i in range(df_language.shape[0]):\r\n",
        "    plt.figure(figsize=(19,5))\r\n",
        "    df_language.iloc[i,:].sort_values(ascending=False).head(5).plot(kind='bar',color=color, title = 10*(i+1))"
      ],
      "execution_count": null,
      "outputs": [
        {
          "output_type": "display_data",
          "data": {
            "image/png": "[encoded data removed]",
            "text/plain": [
              "<Figure size 1368x360 with 1 Axes>"
            ]
          },
          "metadata": {
            "tags": [],
            "needs_background": "light"
          }
        },
        {
          "output_type": "display_data",
          "data": {
            "image/png": "[encoded data removed]",
            "text/plain": [
              "<Figure size 1368x360 with 1 Axes>"
            ]
          },
          "metadata": {
            "tags": [],
            "needs_background": "light"
          }
        },
        {
          "output_type": "display_data",
          "data": {
            "image/png": "[encoded data removed]",
            "text/plain": [
              "<Figure size 1368x360 with 1 Axes>"
            ]
          },
          "metadata": {
            "tags": [],
            "needs_background": "light"
          }
        },
        {
          "output_type": "display_data",
          "data": {
            "image/png": "[encoded data removed]",
            "text/plain": [
              "<Figure size 1368x360 with 1 Axes>"
            ]
          },
          "metadata": {
            "tags": [],
            "needs_background": "light"
          }
        },
        {
          "output_type": "display_data",
          "data": {
            "image/png": "[encoded data removed]",
            "text/plain": [
              "<Figure size 1368x360 with 1 Axes>"
            ]
          },
          "metadata": {
            "tags": [],
            "needs_background": "light"
          }
        },
        {
          "output_type": "display_data",
          "data": {
            "image/png": "[encoded data removed]",
            "text/plain": [
              "<Figure size 1368x360 with 1 Axes>"
            ]
          },
          "metadata": {
            "tags": [],
            "needs_background": "light"
          }
        }
      ]
    },
    {
      "cell_type": "markdown",
      "metadata": {
        "id": "esVwBkeiUpIv"
      },
      "source": [
        "Shown in the histogram above, we can see that each age group has different top 5's programming language. But surprisingly, SQL, Javascript and HTML/CSS are repetitively shown in each age group."
      ]
    },
    {
      "cell_type": "markdown",
      "metadata": {
        "id": "d8YhAhYkVOvE"
      },
      "source": [
        "### **Correlation between Country and the Age Group**"
      ]
    },
    {
      "cell_type": "markdown",
      "metadata": {
        "id": "GrtdO3t7uKZJ"
      },
      "source": [
        "To know the correlation between its country with its age group, we can start from the total of coders from each country."
      ]
    },
    {
      "cell_type": "code",
      "metadata": {
        "colab": {
          "base_uri": "https://localhost:8080/",
          "height": 453
        },
        "id": "oGC_FKvlmfx8",
        "outputId": "8523db53-ecf1-4d46-c875-e8aa84c08f9f"
      },
      "source": [
        "#Visualize data of total coders from each country\r\n",
        "plt.figure(figsize=(19,5))\r\n",
        "plt.xticks(rotation='vertical', fontsize=15.0)\r\n",
        "plt.yticks(fontsize=15.0)\r\n",
        "sns.barplot(x=df['Country'].value_counts().index, y=df['Country'].value_counts(), color=\"#F2C80F\", order=df['Country'].value_counts().index[:15])\r\n",
        "plt.show()"
      ],
      "execution_count": null,
      "outputs": [
        {
          "output_type": "display_data",
          "data": {
            "image/png": "[encoded data removed]",
            "text/plain": [
              "<Figure size 1368x360 with 1 Axes>"
            ]
          },
          "metadata": {
            "tags": [],
            "needs_background": "light"
          }
        }
      ]
    },
    {
      "cell_type": "markdown",
      "metadata": {
        "id": "Yfu6CshPvbJq"
      },
      "source": [
        "It shows that most coders are coming from United States. Then we need to know where the coders in their 60s are coming from and starting to code from age 15 and under. These criterias are useful to see the development of programming."
      ]
    },
    {
      "cell_type": "code",
      "metadata": {
        "colab": {
          "base_uri": "https://localhost:8080/",
          "height": 431
        },
        "id": "VQYs0GkPykKL",
        "outputId": "3942dd48-05f3-47a3-a34a-9096b44c3472"
      },
      "source": [
        "#Take people in their 60s that starting to code from age of 15 and under\r\n",
        "df_60s_people = df[(df['AgeTrend'] == '60s') & (df['Age1stCode'] <= 15)]\r\n",
        "\r\n",
        "plt.figure(figsize=(19,5))\r\n",
        "plt.xticks(rotation='vertical', fontsize=15.0)\r\n",
        "plt.yticks(fontsize=15.0)\r\n",
        "sns.barplot(x=df_60s_people['Country'].value_counts().index, y=df_60s_people['Country'].value_counts(), color=\"#F2C80F\", order=df_60s_people['Country'].value_counts().index)\r\n",
        "plt.show()"
      ],
      "execution_count": null,
      "outputs": [
        {
          "output_type": "display_data",
          "data": {
            "image/png": "[encoded data removed]",
            "text/plain": [
              "<Figure size 1368x360 with 1 Axes>"
            ]
          },
          "metadata": {
            "tags": [],
            "needs_background": "light"
          }
        }
      ]
    },
    {
      "cell_type": "code",
      "metadata": {
        "colab": {
          "base_uri": "https://localhost:8080/",
          "height": 453
        },
        "id": "NIdGVqoZ5lcs",
        "outputId": "de98cd19-722e-48de-fffb-ab284a9cf7a3"
      },
      "source": [
        "#Take people in their 10s that starting to code from age 5, because it is the minimum age in this data\r\n",
        "df_10s_people = df[(df['AgeTrend'] == '10s') & (df['Age1stCode'] == df['Age1stCode'].min())]\r\n",
        "\r\n",
        "plt.figure(figsize=(19,5))\r\n",
        "plt.xticks(rotation='vertical', fontsize=15.0)\r\n",
        "plt.yticks(fontsize=15.0)\r\n",
        "sns.barplot(x=df_10s_people['Country'].value_counts().index, y=df_10s_people['Country'].value_counts(), color=\"#F2C80F\", order=df_10s_people['Country'].value_counts().index)\r\n",
        "plt.show()"
      ],
      "execution_count": null,
      "outputs": [
        {
          "output_type": "display_data",
          "data": {
            "image/png": "[encoded data removed]",
            "text/plain": [
              "<Figure size 1368x360 with 1 Axes>"
            ]
          },
          "metadata": {
            "tags": [],
            "needs_background": "light"
          }
        }
      ]
    },
    {
      "cell_type": "markdown",
      "metadata": {
        "id": "cUbJ605F9_71"
      },
      "source": [
        "The histogram shows that a lot of people from the United States in their 60s have already learned about code at an early age. As we can see, most people in their 60s who learn programming from an early age, are coming from developed countries. But nowadays (10s Age Group) not only the first age of learning code is shrinking, but also more and more people from developing countries are learning about code."
      ]
    }
  ]
}