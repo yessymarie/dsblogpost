{
  "nbformat": 4,
  "nbformat_minor": 0,
  "metadata": {
    "orig_nbformat": 2,
    "colab": {
      "name": "main.ipynb",
      "provenance": []
    },
    "kernelspec": {
      "name": "python3",
      "display_name": "Python 3"
    }
  },
  "cells": [
    {
      "cell_type": "markdown",
      "metadata": {
        "id": "ft1h6Jf3w2Qb"
      },
      "source": [
        "# **Demography of Coders in 2020**\n",
        "\n",
        "> Indented block\n",
        "\n",
        "\n",
        "In this notebook, I will try to answer how the age and country can affect people to learn about code\n",
        "\n",
        "\n",
        "1.   What is the age range trend of coders?\n",
        "2.   What is the most used programming language in an age range?\n",
        "3.   How is the correlation between 1st age code and years code in a country based on its age range? \n",
        "\n"
      ]
    },
    {
      "cell_type": "code",
      "metadata": {
        "id": "ntCkvEpFUJ8a"
      },
      "source": [
        "import pandas as pd\n",
        "import numpy as np\n",
        "import matplotlib.pyplot as plt\n",
        "import seaborn as sns\n",
        "from sklearn.linear_model import LinearRegression\n",
        "from sklearn.model_selection import train_test_split\n",
        "from sklearn.metrics import r2_score, mean_squared_error"
      ],
      "execution_count": 2,
      "outputs": []
    },
    {
      "cell_type": "markdown",
      "metadata": {
        "id": "dMZF7TEb5ATF"
      },
      "source": [
        "We load Pandas, Numpy, and pyplot for this project. This libraries will be heavily used for this project"
      ]
    },
    {
      "cell_type": "markdown",
      "metadata": {
        "id": "v3vfhNku5Wii"
      },
      "source": [
        "**Load and Filter Data needed**"
      ]
    },
    {
      "cell_type": "markdown",
      "metadata": {
        "id": "55I458IdUQlK"
      },
      "source": [
        "For understanding the data, we only use the desired column to answer the question above.\n",
        "The desired columns are mainly about the background of respondent."
      ]
    },
    {
      "cell_type": "code",
      "metadata": {
        "colab": {
          "base_uri": "https://localhost:8080/"
        },
        "id": "r641ptvx5d4Z",
        "outputId": "1bbe967f-dcc6-455f-ad8a-62b2e48398e9"
      },
      "source": [
        "\n",
        "from google.colab import drive\n",
        "drive.mount('/content/drive')"
      ],
      "execution_count": 3,
      "outputs": [
        {
          "output_type": "stream",
          "text": [
            "Mounted at /content/drive\n"
          ],
          "name": "stdout"
        }
      ]
    },
    {
      "cell_type": "code",
      "metadata": {
        "colab": {
          "base_uri": "https://localhost:8080/",
          "height": 197
        },
        "id": "628Vyoo0725l",
        "outputId": "2039b9c7-4588-42f4-d740-098e9d5ae15e"
      },
      "source": [
        "# Load data from csv\n",
        "df = pd.read_csv('/content/drive/MyDrive/Dataset Udacity/Stack Overflow 2020/survey_results_public.csv')\n",
        "\n",
        "# Show only the desired column\n",
        "column = ['MainBranch','Age1stCode','Country','Hobbyist','YearsCode']\n",
        "\n",
        "df = df[column]\n",
        "\n",
        "df.head()"
      ],
      "execution_count": 4,
      "outputs": [
        {
          "output_type": "execute_result",
          "data": {
            "text/html": [
              "<div>\n",
              "<style scoped>\n",
              "    .dataframe tbody tr th:only-of-type {\n",
              "        vertical-align: middle;\n",
              "    }\n",
              "\n",
              "    .dataframe tbody tr th {\n",
              "        vertical-align: top;\n",
              "    }\n",
              "\n",
              "    .dataframe thead th {\n",
              "        text-align: right;\n",
              "    }\n",
              "</style>\n",
              "<table border=\"1\" class=\"dataframe\">\n",
              "  <thead>\n",
              "    <tr style=\"text-align: right;\">\n",
              "      <th></th>\n",
              "      <th>MainBranch</th>\n",
              "      <th>Age1stCode</th>\n",
              "      <th>Country</th>\n",
              "      <th>Hobbyist</th>\n",
              "      <th>YearsCode</th>\n",
              "    </tr>\n",
              "  </thead>\n",
              "  <tbody>\n",
              "    <tr>\n",
              "      <th>0</th>\n",
              "      <td>I am a developer by profession</td>\n",
              "      <td>13</td>\n",
              "      <td>Germany</td>\n",
              "      <td>Yes</td>\n",
              "      <td>36</td>\n",
              "    </tr>\n",
              "    <tr>\n",
              "      <th>1</th>\n",
              "      <td>I am a developer by profession</td>\n",
              "      <td>19</td>\n",
              "      <td>United Kingdom</td>\n",
              "      <td>No</td>\n",
              "      <td>7</td>\n",
              "    </tr>\n",
              "    <tr>\n",
              "      <th>2</th>\n",
              "      <td>I code primarily as a hobby</td>\n",
              "      <td>15</td>\n",
              "      <td>Russian Federation</td>\n",
              "      <td>Yes</td>\n",
              "      <td>4</td>\n",
              "    </tr>\n",
              "    <tr>\n",
              "      <th>3</th>\n",
              "      <td>I am a developer by profession</td>\n",
              "      <td>18</td>\n",
              "      <td>Albania</td>\n",
              "      <td>Yes</td>\n",
              "      <td>7</td>\n",
              "    </tr>\n",
              "    <tr>\n",
              "      <th>4</th>\n",
              "      <td>I used to be a developer by profession, but no...</td>\n",
              "      <td>16</td>\n",
              "      <td>United States</td>\n",
              "      <td>Yes</td>\n",
              "      <td>15</td>\n",
              "    </tr>\n",
              "  </tbody>\n",
              "</table>\n",
              "</div>"
            ],
            "text/plain": [
              "                                          MainBranch  ... YearsCode\n",
              "0                     I am a developer by profession  ...        36\n",
              "1                     I am a developer by profession  ...         7\n",
              "2                        I code primarily as a hobby  ...         4\n",
              "3                     I am a developer by profession  ...         7\n",
              "4  I used to be a developer by profession, but no...  ...        15\n",
              "\n",
              "[5 rows x 5 columns]"
            ]
          },
          "metadata": {
            "tags": []
          },
          "execution_count": 4
        }
      ]
    },
    {
      "cell_type": "markdown",
      "metadata": {
        "id": "CHEbwJsQYPxk"
      },
      "source": [
        "We won't use the unknown data"
      ]
    },
    {
      "cell_type": "code",
      "metadata": {
        "id": "12ydW-shYZGU"
      },
      "source": [
        "df = df.dropna()"
      ],
      "execution_count": 15,
      "outputs": []
    },
    {
      "cell_type": "code",
      "metadata": {
        "colab": {
          "base_uri": "https://localhost:8080/",
          "height": 197
        },
        "id": "Rkl8YEFTZ9qX",
        "outputId": "80c2dd34-a2fa-43c0-fa60-4a19abe0e2c8"
      },
      "source": [
        "df['Age1stCode'] = df['Age1stCode'].apply(pd.to_numeric, errors='coerce')\n",
        "df['YearsCode'] = df['YearsCode'].apply(pd.to_numeric, errors='coerce')\n",
        "pd.options.display.float_format = '{:,.0f}'.format\n",
        "\n",
        "df['Age'] = df.Age1stCode + df.YearsCode\n",
        "df.head()"
      ],
      "execution_count": 18,
      "outputs": [
        {
          "output_type": "execute_result",
          "data": {
            "text/html": [
              "<div>\n",
              "<style scoped>\n",
              "    .dataframe tbody tr th:only-of-type {\n",
              "        vertical-align: middle;\n",
              "    }\n",
              "\n",
              "    .dataframe tbody tr th {\n",
              "        vertical-align: top;\n",
              "    }\n",
              "\n",
              "    .dataframe thead th {\n",
              "        text-align: right;\n",
              "    }\n",
              "</style>\n",
              "<table border=\"1\" class=\"dataframe\">\n",
              "  <thead>\n",
              "    <tr style=\"text-align: right;\">\n",
              "      <th></th>\n",
              "      <th>MainBranch</th>\n",
              "      <th>Age1stCode</th>\n",
              "      <th>Country</th>\n",
              "      <th>Hobbyist</th>\n",
              "      <th>YearsCode</th>\n",
              "      <th>Age</th>\n",
              "      <th>AgeTrend</th>\n",
              "    </tr>\n",
              "  </thead>\n",
              "  <tbody>\n",
              "    <tr>\n",
              "      <th>0</th>\n",
              "      <td>I am a developer by profession</td>\n",
              "      <td>13</td>\n",
              "      <td>Germany</td>\n",
              "      <td>Yes</td>\n",
              "      <td>36</td>\n",
              "      <td>49</td>\n",
              "      <td>40s</td>\n",
              "    </tr>\n",
              "    <tr>\n",
              "      <th>1</th>\n",
              "      <td>I am a developer by profession</td>\n",
              "      <td>19</td>\n",
              "      <td>United Kingdom</td>\n",
              "      <td>No</td>\n",
              "      <td>7</td>\n",
              "      <td>26</td>\n",
              "      <td>20s</td>\n",
              "    </tr>\n",
              "    <tr>\n",
              "      <th>2</th>\n",
              "      <td>I code primarily as a hobby</td>\n",
              "      <td>15</td>\n",
              "      <td>Russian Federation</td>\n",
              "      <td>Yes</td>\n",
              "      <td>4</td>\n",
              "      <td>19</td>\n",
              "      <td>10s</td>\n",
              "    </tr>\n",
              "    <tr>\n",
              "      <th>3</th>\n",
              "      <td>I am a developer by profession</td>\n",
              "      <td>18</td>\n",
              "      <td>Albania</td>\n",
              "      <td>Yes</td>\n",
              "      <td>7</td>\n",
              "      <td>25</td>\n",
              "      <td>20s</td>\n",
              "    </tr>\n",
              "    <tr>\n",
              "      <th>4</th>\n",
              "      <td>I used to be a developer by profession, but no...</td>\n",
              "      <td>16</td>\n",
              "      <td>United States</td>\n",
              "      <td>Yes</td>\n",
              "      <td>15</td>\n",
              "      <td>31</td>\n",
              "      <td>30s</td>\n",
              "    </tr>\n",
              "  </tbody>\n",
              "</table>\n",
              "</div>"
            ],
            "text/plain": [
              "                                          MainBranch  Age1stCode  ... Age AgeTrend\n",
              "0                     I am a developer by profession          13  ...  49      40s\n",
              "1                     I am a developer by profession          19  ...  26      20s\n",
              "2                        I code primarily as a hobby          15  ...  19      10s\n",
              "3                     I am a developer by profession          18  ...  25      20s\n",
              "4  I used to be a developer by profession, but no...          16  ...  31      30s\n",
              "\n",
              "[5 rows x 7 columns]"
            ]
          },
          "metadata": {
            "tags": []
          },
          "execution_count": 18
        }
      ]
    },
    {
      "cell_type": "code",
      "metadata": {
        "id": "sT-Elu_RmCWS",
        "colab": {
          "base_uri": "https://localhost:8080/",
          "height": 197
        },
        "outputId": "469717ae-68e6-4e6e-9017-9cae098fc1e3"
      },
      "source": [
        "class_list = [0,9.9,19.9,29.9,39.9,49.9,59.9,69.9]\r\n",
        "class_name = ['00s','10s', '20s', '30s', '40s','50s','60s']\r\n",
        "\r\n",
        "df['AgeTrend'] = pd.cut(df['Age'], class_list , labels = class_name)\r\n",
        "df.head()"
      ],
      "execution_count": 20,
      "outputs": [
        {
          "output_type": "execute_result",
          "data": {
            "text/html": [
              "<div>\n",
              "<style scoped>\n",
              "    .dataframe tbody tr th:only-of-type {\n",
              "        vertical-align: middle;\n",
              "    }\n",
              "\n",
              "    .dataframe tbody tr th {\n",
              "        vertical-align: top;\n",
              "    }\n",
              "\n",
              "    .dataframe thead th {\n",
              "        text-align: right;\n",
              "    }\n",
              "</style>\n",
              "<table border=\"1\" class=\"dataframe\">\n",
              "  <thead>\n",
              "    <tr style=\"text-align: right;\">\n",
              "      <th></th>\n",
              "      <th>MainBranch</th>\n",
              "      <th>Age1stCode</th>\n",
              "      <th>Country</th>\n",
              "      <th>Hobbyist</th>\n",
              "      <th>YearsCode</th>\n",
              "      <th>Age</th>\n",
              "      <th>AgeTrend</th>\n",
              "    </tr>\n",
              "  </thead>\n",
              "  <tbody>\n",
              "    <tr>\n",
              "      <th>0</th>\n",
              "      <td>I am a developer by profession</td>\n",
              "      <td>13</td>\n",
              "      <td>Germany</td>\n",
              "      <td>Yes</td>\n",
              "      <td>36</td>\n",
              "      <td>49</td>\n",
              "      <td>40s</td>\n",
              "    </tr>\n",
              "    <tr>\n",
              "      <th>1</th>\n",
              "      <td>I am a developer by profession</td>\n",
              "      <td>19</td>\n",
              "      <td>United Kingdom</td>\n",
              "      <td>No</td>\n",
              "      <td>7</td>\n",
              "      <td>26</td>\n",
              "      <td>20s</td>\n",
              "    </tr>\n",
              "    <tr>\n",
              "      <th>2</th>\n",
              "      <td>I code primarily as a hobby</td>\n",
              "      <td>15</td>\n",
              "      <td>Russian Federation</td>\n",
              "      <td>Yes</td>\n",
              "      <td>4</td>\n",
              "      <td>19</td>\n",
              "      <td>10s</td>\n",
              "    </tr>\n",
              "    <tr>\n",
              "      <th>3</th>\n",
              "      <td>I am a developer by profession</td>\n",
              "      <td>18</td>\n",
              "      <td>Albania</td>\n",
              "      <td>Yes</td>\n",
              "      <td>7</td>\n",
              "      <td>25</td>\n",
              "      <td>20s</td>\n",
              "    </tr>\n",
              "    <tr>\n",
              "      <th>4</th>\n",
              "      <td>I used to be a developer by profession, but no...</td>\n",
              "      <td>16</td>\n",
              "      <td>United States</td>\n",
              "      <td>Yes</td>\n",
              "      <td>15</td>\n",
              "      <td>31</td>\n",
              "      <td>30s</td>\n",
              "    </tr>\n",
              "  </tbody>\n",
              "</table>\n",
              "</div>"
            ],
            "text/plain": [
              "                                          MainBranch  Age1stCode  ... Age AgeTrend\n",
              "0                     I am a developer by profession          13  ...  49      40s\n",
              "1                     I am a developer by profession          19  ...  26      20s\n",
              "2                        I code primarily as a hobby          15  ...  19      10s\n",
              "3                     I am a developer by profession          18  ...  25      20s\n",
              "4  I used to be a developer by profession, but no...          16  ...  31      30s\n",
              "\n",
              "[5 rows x 7 columns]"
            ]
          },
          "metadata": {
            "tags": []
          },
          "execution_count": 20
        }
      ]
    },
    {
      "cell_type": "code",
      "metadata": {
        "id": "4Q2RCax4jYNl",
        "outputId": "240d62a4-9310-4b49-90de-28f4222c17ac",
        "colab": {
          "base_uri": "https://localhost:8080/"
        }
      },
      "source": [
        "df['AgeTrend'].count()"
      ],
      "execution_count": 24,
      "outputs": [
        {
          "output_type": "execute_result",
          "data": {
            "text/plain": [
              "56153"
            ]
          },
          "metadata": {
            "tags": []
          },
          "execution_count": 24
        }
      ]
    },
    {
      "cell_type": "markdown",
      "metadata": {
        "id": "EjxVoECti3bs"
      },
      "source": [
        "# **Analysis**"
      ]
    },
    {
      "cell_type": "markdown",
      "metadata": {
        "id": "w4TLXjXviQa0"
      },
      "source": [
        "**Age Range Trend for Coders**\r\n",
        "\r\n",
        "To know the age trend of coders, we simply plot the data based on the age range.\r\n",
        "\r\n"
      ]
    },
    {
      "cell_type": "code",
      "metadata": {
        "id": "ymKQHkpNgZM4",
        "outputId": "75bc006c-8d43-4b04-d490-dae3a08198f6",
        "colab": {
          "base_uri": "https://localhost:8080/",
          "height": 291
        }
      },
      "source": [
        "df['AgeTrend'].value_counts().plot(kind='bar')"
      ],
      "execution_count": 23,
      "outputs": [
        {
          "output_type": "execute_result",
          "data": {
            "text/plain": [
              "<matplotlib.axes._subplots.AxesSubplot at 0x7ff28c57d278>"
            ]
          },
          "metadata": {
            "tags": []
          },
          "execution_count": 23
        },
        {
          "output_type": "display_data",
          "data": {
            "image/png": "[encoded data removed]",
            "text/plain": [
              "<Figure size 432x288 with 1 Axes>"
            ]
          },
          "metadata": {
            "tags": [],
            "needs_background": "light"
          }
        }
      ]
    },
    {
      "cell_type": "markdown",
      "metadata": {
        "id": "XrAUdWUDhHyT"
      },
      "source": [
        "As you can see, the coders are mostly in their 20s. People in 20s are born from 1990s to 2000, when technology thrived at a high pace. Followed by people in 30s then 10s. It shows that people in 10s have a high curiosity in programming language."
      ]
    }
  ]
}