{
  "nbformat": 4,
  "nbformat_minor": 0,
  "metadata": {
    "orig_nbformat": 2,
    "colab": {
      "name": "main.ipynb",
      "provenance": []
    },
    "kernelspec": {
      "name": "python3",
      "display_name": "Python 3"
    }
  },
  "cells": [
    {
      "cell_type": "markdown",
      "metadata": {
        "id": "ft1h6Jf3w2Qb"
      },
      "source": [
        "# **Demography of Coders in 2020**\n",
        "\n",
        "> Indented block\n",
        "\n",
        "\n",
        "In this notebook, I will try to answer how the age and country can affect people to learn about code\n",
        "\n",
        "\n",
        "1.   What is the age trend of coders?\n",
        "2.   \n",
        "3.   How is the correlation between people in a country to \n",
        "\n"
      ]
    },
    {
      "cell_type": "code",
      "metadata": {
        "id": "ntCkvEpFUJ8a"
      },
      "source": [
        "import pandas as pd\n",
        "import numpy as np\n",
        "import matplotlib.pyplot as plt\n",
        "import seaborn as sns\n",
        "from sklearn.linear_model import LinearRegression\n",
        "from sklearn.model_selection import train_test_split\n",
        "from sklearn.metrics import r2_score, mean_squared_error"
      ],
      "execution_count": 1,
      "outputs": []
    },
    {
      "cell_type": "markdown",
      "metadata": {
        "id": "dMZF7TEb5ATF"
      },
      "source": [
        "We load Pandas, Numpy, and pyplot for this project. This libraries will be heavily used for this project"
      ]
    },
    {
      "cell_type": "markdown",
      "metadata": {
        "id": "v3vfhNku5Wii"
      },
      "source": [
        "**Load and Filter Data needed**"
      ]
    },
    {
      "cell_type": "markdown",
      "metadata": {
        "id": "55I458IdUQlK"
      },
      "source": [
        "For understanding the data, we only use the desired column to answer the question above.\n",
        "The desired columns are mainly about the background of respondent."
      ]
    },
    {
      "cell_type": "code",
      "metadata": {
        "colab": {
          "base_uri": "https://localhost:8080/"
        },
        "id": "r641ptvx5d4Z",
        "outputId": "d27c6462-1325-4e61-efce-9e8637e64d35"
      },
      "source": [
        "\n",
        "from google.colab import drive\n",
        "drive.mount('/content/drive')"
      ],
      "execution_count": 2,
      "outputs": [
        {
          "output_type": "stream",
          "text": [
            "Mounted at /content/drive\n"
          ],
          "name": "stdout"
        }
      ]
    },
    {
      "cell_type": "code",
      "metadata": {
        "colab": {
          "base_uri": "https://localhost:8080/"
        },
        "id": "628Vyoo0725l",
        "outputId": "18a57e63-53ac-40f4-8ce1-c82e5781f281"
      },
      "source": [
        "# Load data from csv\n",
        "df = pd.read_csv('/content/drive/MyDrive/Dataset Udacity/Stack Overflow 2020/survey_results_public.csv')\n",
        "\n",
        "# Show only the desired column\n",
        "column = ['MainBranch','Age1stCode','Country','Hobbyist','YearsCode']\n",
        "\n",
        "df = df[column]\n",
        "\n",
        "df.head()\n",
        "df.count()"
      ],
      "execution_count": 25,
      "outputs": [
        {
          "output_type": "execute_result",
          "data": {
            "text/plain": [
              "MainBranch    64162\n",
              "Age1stCode    57900\n",
              "Country       64072\n",
              "Hobbyist      64416\n",
              "YearsCode     57684\n",
              "dtype: int64"
            ]
          },
          "metadata": {
            "tags": []
          },
          "execution_count": 25
        }
      ]
    },
    {
      "cell_type": "markdown",
      "metadata": {
        "id": "CHEbwJsQYPxk"
      },
      "source": [
        "We won't use the unknown data"
      ]
    },
    {
      "cell_type": "code",
      "metadata": {
        "colab": {
          "base_uri": "https://localhost:8080/"
        },
        "id": "12ydW-shYZGU",
        "outputId": "8809012b-c626-4c30-e36c-b59b9b0cc50b"
      },
      "source": [
        "df = df.dropna()\n",
        "df.count()"
      ],
      "execution_count": 23,
      "outputs": [
        {
          "output_type": "execute_result",
          "data": {
            "text/plain": [
              "MainBranch    57410\n",
              "Age1stCode    57410\n",
              "Country       57410\n",
              "Hobbyist      57410\n",
              "YearsCode     57410\n",
              "dtype: int64"
            ]
          },
          "metadata": {
            "tags": []
          },
          "execution_count": 23
        }
      ]
    },
    {
      "cell_type": "code",
      "metadata": {
        "colab": {
          "base_uri": "https://localhost:8080/",
          "height": 197
        },
        "id": "Rkl8YEFTZ9qX",
        "outputId": "5c1bb883-0f89-4bbb-f144-a616df512440"
      },
      "source": [
        "df['Age1stCode'] = df['Age1stCode'].apply(pd.to_numeric, errors='coerce')\n",
        "df['YearsCode'] = df['YearsCode'].apply(pd.to_numeric, errors='coerce')\n",
        "pd.options.display.float_format = '{:,.0f}'.format\n",
        "\n",
        "df['YearBorn'] = 2020 - df.Age1stCode - df.YearsCode\n",
        "df.head()"
      ],
      "execution_count": 35,
      "outputs": [
        {
          "output_type": "execute_result",
          "data": {
            "text/html": [
              "<div>\n",
              "<style scoped>\n",
              "    .dataframe tbody tr th:only-of-type {\n",
              "        vertical-align: middle;\n",
              "    }\n",
              "\n",
              "    .dataframe tbody tr th {\n",
              "        vertical-align: top;\n",
              "    }\n",
              "\n",
              "    .dataframe thead th {\n",
              "        text-align: right;\n",
              "    }\n",
              "</style>\n",
              "<table border=\"1\" class=\"dataframe\">\n",
              "  <thead>\n",
              "    <tr style=\"text-align: right;\">\n",
              "      <th></th>\n",
              "      <th>MainBranch</th>\n",
              "      <th>Age1stCode</th>\n",
              "      <th>Country</th>\n",
              "      <th>Hobbyist</th>\n",
              "      <th>YearsCode</th>\n",
              "      <th>YearBorn</th>\n",
              "    </tr>\n",
              "  </thead>\n",
              "  <tbody>\n",
              "    <tr>\n",
              "      <th>0</th>\n",
              "      <td>I am a developer by profession</td>\n",
              "      <td>13</td>\n",
              "      <td>Germany</td>\n",
              "      <td>Yes</td>\n",
              "      <td>36</td>\n",
              "      <td>1,971</td>\n",
              "    </tr>\n",
              "    <tr>\n",
              "      <th>1</th>\n",
              "      <td>I am a developer by profession</td>\n",
              "      <td>19</td>\n",
              "      <td>United Kingdom</td>\n",
              "      <td>No</td>\n",
              "      <td>7</td>\n",
              "      <td>1,994</td>\n",
              "    </tr>\n",
              "    <tr>\n",
              "      <th>2</th>\n",
              "      <td>I code primarily as a hobby</td>\n",
              "      <td>15</td>\n",
              "      <td>Russian Federation</td>\n",
              "      <td>Yes</td>\n",
              "      <td>4</td>\n",
              "      <td>2,001</td>\n",
              "    </tr>\n",
              "    <tr>\n",
              "      <th>3</th>\n",
              "      <td>I am a developer by profession</td>\n",
              "      <td>18</td>\n",
              "      <td>Albania</td>\n",
              "      <td>Yes</td>\n",
              "      <td>7</td>\n",
              "      <td>1,995</td>\n",
              "    </tr>\n",
              "    <tr>\n",
              "      <th>4</th>\n",
              "      <td>I used to be a developer by profession, but no...</td>\n",
              "      <td>16</td>\n",
              "      <td>United States</td>\n",
              "      <td>Yes</td>\n",
              "      <td>15</td>\n",
              "      <td>1,989</td>\n",
              "    </tr>\n",
              "  </tbody>\n",
              "</table>\n",
              "</div>"
            ],
            "text/plain": [
              "                                          MainBranch  ...  YearBorn\n",
              "0                     I am a developer by profession  ...     1,971\n",
              "1                     I am a developer by profession  ...     1,994\n",
              "2                        I code primarily as a hobby  ...     2,001\n",
              "3                     I am a developer by profession  ...     1,995\n",
              "4  I used to be a developer by profession, but no...  ...     1,989\n",
              "\n",
              "[5 rows x 6 columns]"
            ]
          },
          "metadata": {
            "tags": []
          },
          "execution_count": 35
        }
      ]
    }
  ]
}